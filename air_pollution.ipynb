{
 "cells": [
  {
   "cell_type": "markdown",
   "id": "997de55f",
   "metadata": {},
   "source": [
    "# Predicting Air Pollution using Machine Learning"
   ]
  },
  {
   "cell_type": "markdown",
   "id": "9fbef6b0",
   "metadata": {},
   "source": [
    "## Data Preparation\n",
    "### section 1\n",
    "- download\n",
    "- load\n",
    "- visualize\n",
    "- Normalize data"
   ]
  },
  {
   "cell_type": "code",
   "execution_count": 1,
   "id": "4515cc27",
   "metadata": {},
   "outputs": [],
   "source": [
    "import numpy as np\n",
    "import matplotlib.pyplot as plt\n",
    "import pandas as pd"
   ]
  },
  {
   "cell_type": "code",
   "execution_count": 3,
   "id": "ffd8657f",
   "metadata": {},
   "outputs": [
    {
     "data": {
      "text/html": [
       "<div>\n",
       "<style scoped>\n",
       "    .dataframe tbody tr th:only-of-type {\n",
       "        vertical-align: middle;\n",
       "    }\n",
       "\n",
       "    .dataframe tbody tr th {\n",
       "        vertical-align: top;\n",
       "    }\n",
       "\n",
       "    .dataframe thead th {\n",
       "        text-align: right;\n",
       "    }\n",
       "</style>\n",
       "<table border=\"1\" class=\"dataframe\">\n",
       "  <thead>\n",
       "    <tr style=\"text-align: right;\">\n",
       "      <th></th>\n",
       "      <th>T</th>\n",
       "      <th>TM</th>\n",
       "      <th>Tm</th>\n",
       "      <th>SLP</th>\n",
       "      <th>H</th>\n",
       "      <th>VV</th>\n",
       "      <th>V</th>\n",
       "      <th>VM</th>\n",
       "      <th>PM 2.5</th>\n",
       "    </tr>\n",
       "  </thead>\n",
       "  <tbody>\n",
       "    <tr>\n",
       "      <th>0</th>\n",
       "      <td>7.4</td>\n",
       "      <td>9.8</td>\n",
       "      <td>4.8</td>\n",
       "      <td>1017.6</td>\n",
       "      <td>93.0</td>\n",
       "      <td>0.5</td>\n",
       "      <td>4.3</td>\n",
       "      <td>9.4</td>\n",
       "      <td>219.720833</td>\n",
       "    </tr>\n",
       "    <tr>\n",
       "      <th>1</th>\n",
       "      <td>7.8</td>\n",
       "      <td>12.7</td>\n",
       "      <td>4.4</td>\n",
       "      <td>1018.5</td>\n",
       "      <td>87.0</td>\n",
       "      <td>0.6</td>\n",
       "      <td>4.4</td>\n",
       "      <td>11.1</td>\n",
       "      <td>182.187500</td>\n",
       "    </tr>\n",
       "    <tr>\n",
       "      <th>2</th>\n",
       "      <td>6.7</td>\n",
       "      <td>13.4</td>\n",
       "      <td>2.4</td>\n",
       "      <td>1019.4</td>\n",
       "      <td>82.0</td>\n",
       "      <td>0.6</td>\n",
       "      <td>4.8</td>\n",
       "      <td>11.1</td>\n",
       "      <td>154.037500</td>\n",
       "    </tr>\n",
       "    <tr>\n",
       "      <th>3</th>\n",
       "      <td>8.6</td>\n",
       "      <td>15.5</td>\n",
       "      <td>3.3</td>\n",
       "      <td>1018.7</td>\n",
       "      <td>72.0</td>\n",
       "      <td>0.8</td>\n",
       "      <td>8.1</td>\n",
       "      <td>20.6</td>\n",
       "      <td>223.208333</td>\n",
       "    </tr>\n",
       "    <tr>\n",
       "      <th>4</th>\n",
       "      <td>12.4</td>\n",
       "      <td>20.9</td>\n",
       "      <td>4.4</td>\n",
       "      <td>1017.3</td>\n",
       "      <td>61.0</td>\n",
       "      <td>1.3</td>\n",
       "      <td>8.7</td>\n",
       "      <td>22.2</td>\n",
       "      <td>200.645833</td>\n",
       "    </tr>\n",
       "  </tbody>\n",
       "</table>\n",
       "</div>"
      ],
      "text/plain": [
       "      T    TM   Tm     SLP     H   VV    V    VM      PM 2.5\n",
       "0   7.4   9.8  4.8  1017.6  93.0  0.5  4.3   9.4  219.720833\n",
       "1   7.8  12.7  4.4  1018.5  87.0  0.6  4.4  11.1  182.187500\n",
       "2   6.7  13.4  2.4  1019.4  82.0  0.6  4.8  11.1  154.037500\n",
       "3   8.6  15.5  3.3  1018.7  72.0  0.8  8.1  20.6  223.208333\n",
       "4  12.4  20.9  4.4  1017.3  61.0  1.3  8.7  22.2  200.645833"
      ]
     },
     "execution_count": 3,
     "metadata": {},
     "output_type": "execute_result"
    }
   ],
   "source": [
    "# load data\n",
    "data = pd.read_csv('./air_pollution/Data.csv')\n",
    "\n",
    "data.dropna(inplace = True)\n",
    "data.head()"
   ]
  },
  {
   "cell_type": "code",
   "execution_count": 4,
   "id": "c573b47f",
   "metadata": {},
   "outputs": [
    {
     "name": "stdout",
     "output_type": "stream",
     "text": [
      "(1092, 8)\n"
     ]
    }
   ],
   "source": [
    "# from the above we can see that we have 8 features - X and a target i.e. output y\n",
    "data = data.values\n",
    "X = data[:,0:8]\n",
    "y = data[:,-1]    # get x and y for training purpose\n",
    "print(X.shape)\n",
    "#print(X[0:4,:])\n"
   ]
  },
  {
   "cell_type": "code",
   "execution_count": 5,
   "id": "c0fb6d8c",
   "metadata": {},
   "outputs": [],
   "source": [
    "# Normalize the data\n",
    "u = np.mean(X,axis = 0)\n",
    "s = np.std(X,axis = 0)\n",
    "X = (X-u)/s"
   ]
  },
  {
   "cell_type": "code",
   "execution_count": 6,
   "id": "60a18245",
   "metadata": {},
   "outputs": [
    {
     "data": {
      "text/plain": [
       "<function matplotlib.pyplot.show(close=None, block=None)>"
      ]
     },
     "execution_count": 6,
     "metadata": {},
     "output_type": "execute_result"
    },
    {
     "data": {
      "image/png": "[encoded data removed]",
      "text/plain": [
       "<Figure size 432x288 with 1 Axes>"
      ]
     },
     "metadata": {
      "needs_background": "light"
     },
     "output_type": "display_data"
    }
   ],
   "source": [
    "# plot any feature to visualize\n",
    "plt.scatter(X[:,3],y)   # x for all rows and 3th coloumn/feature data vs y\n",
    "plt.show                # change the coloumn value fron 3 to any other to visualize that also"
   ]
  },
  {
   "cell_type": "markdown",
   "id": "0ae52e28",
   "metadata": {},
   "source": [
    "### section 2\n",
    "- apply linear regression on multiple features\n",
    "- remember: we need to add a coloumn of 1s i.e. x0 before finding hypothesis  =  preprosessing\n",
    "- for computing theta transpose x"
   ]
  },
  {
   "cell_type": "code",
   "execution_count": 7,
   "id": "79e5759c",
   "metadata": {},
   "outputs": [
    {
     "name": "stdout",
     "output_type": "stream",
     "text": [
      "(1092, 1)\n",
      "(1092, 9)\n",
      "[[ 1.         -2.5758334  -3.4040112  -1.97306575  1.26724517  1.91926675\n",
      "  -2.01150096 -0.63876585 -0.87715776]\n",
      " [ 1.         -2.52049852 -2.96903049 -2.02687159  1.38692849  1.53677943\n",
      "  -1.87771128 -0.61272881 -0.64450561]\n",
      " [ 1.         -2.67266943 -2.86403514 -2.29590082  1.5066118   1.21803999\n",
      "  -1.87771128 -0.50858065 -0.64450561]\n",
      " [ 1.         -2.40982877 -2.5490491  -2.17483767  1.41352478  0.58056112\n",
      "  -1.61013191  0.35064168  0.65560935]]\n"
     ]
    }
   ],
   "source": [
    "ones = np.ones((X.shape[0],1))  # x.shape[0] means no of rows and we are finding ones for those many rows and 1 coloumn\n",
    "X = np.hstack((ones,X))         # add 1's coloumn to x as x0\n",
    "print(ones.shape)\n",
    "print(X.shape)\n",
    "print(X[:4,:])                  # print first 4 rows and all columns of x"
   ]
  },
  {
   "cell_type": "markdown",
   "id": "f6443616",
   "metadata": {},
   "source": [
    "- X matrix(m x n) means m examples and n features (capital X)\n",
    "- x vector = single example with n features (small x)"
   ]
  },
  {
   "cell_type": "markdown",
   "id": "33f6471f",
   "metadata": {},
   "source": [
    "## section 2 \n",
    "### Building Algorithm from scratch"
   ]
  },
  {
   "cell_type": "code",
   "execution_count": 8,
   "id": "26bde73a",
   "metadata": {},
   "outputs": [],
   "source": [
    "def hypothesis(x , theta):\n",
    "    y_ = 0.0\n",
    "    n = X.shape[1]\n",
    "    for i in range(n):\n",
    "        y_ += (theta[i]*x[i])\n",
    "    return y_\n",
    "\n",
    "def error(X , y, theta):\n",
    "    e = 0.0\n",
    "    m = X.shape[0]\n",
    "    for i in range(m):\n",
    "        y_ = hypothesis(X[i],theta)\n",
    "        e += (y[i]-y_)**2\n",
    "    return e/m\n",
    "\n",
    "def gradient(X,y,theta):\n",
    "    m,n = X.shape\n",
    "    grad = np.zeros((n,))\n",
    "    \n",
    "    # as theta = theta - lr*gradient the length of gradient must be same as theta\n",
    "    # initialize the gradient with n length\n",
    "    \n",
    "    for j in range(n):\n",
    "        for i in range(m):\n",
    "            y_ = hypothesis(X[i],theta)\n",
    "            grad[j] += ((y_-y[i]))*X[i][j]\n",
    "    return grad/m\n",
    "\n",
    "def gradient_decent(X,y,lr = 0.1 , max_epochs = 300):\n",
    "    m,n = X.shape\n",
    "    theta = np.zeros((n,))\n",
    "    error_list = []\n",
    "    for i in range(max_epochs):\n",
    "        e = error(X,y,theta)\n",
    "        error_list.append(e)\n",
    "        \n",
    "        grad = gradient(X,y,theta)\n",
    "        \n",
    "        for j in range(n):\n",
    "            theta[j]=theta[j]-lr*grad[j]\n",
    "    return theta,error_list"
   ]
  },
  {
   "cell_type": "code",
   "execution_count": 10,
   "id": "7275791a",
   "metadata": {},
   "outputs": [
    {
     "name": "stdout",
     "output_type": "stream",
     "text": [
      "[109.09098367 -14.36611302   3.04197766 -31.30344383   1.66840571\n",
      " -18.70124343 -28.93495521  -8.33040911   3.48448935]\n",
      "[19028.779025281747, 14538.698338759858, 12029.461267995392, 10301.60946096948, 8983.222345849064, 7935.7787998561635, 7091.293753585494, 6406.74780701365, 5850.599330567926, 5398.21766130638, 5029.912837552269, 4729.811785845137, 4485.0783704697205, 4285.3185999629895, 4122.109995810282, 3988.6241807335155, 3879.32273266939, 3789.7116008708713, 3716.1426223157573, 3655.6530131389613, 3605.835513123396, 3564.7332900245974, 3530.7548535943433, 3502.6051472862914, 3479.229724386973, 3459.7695103917567, 3443.524133147463, 3429.922189225024, 3418.4971272716434, 3408.8676812501694, 3400.7219901691115, 3393.8047055197767, 3387.9065207132076, 3382.8556644276246, 3378.5109868320565, 3374.756338093783, 3371.4959955899076, 3368.6509423994758, 3366.15583702638, 3363.956544573884, 3362.008124112728, 3360.2731868533433, 3358.720555833936, 3357.324170887558, 3356.0621932317995, 3354.9162726043237, 3353.870946826038, 3352.9131493178807, 3352.0318046770544, 3351.2174961354685, 3350.4621917397585, 3349.7590185421273, 3349.1020760803444, 3348.486282041826, 3347.907244319836, 3347.361154737235, 3346.8447005821317, 3346.354990805242, 3345.8894943041755, 3345.4459881877697, 3345.0225142946583, 3344.6173425515735, 3344.228940009938, 3343.8559446063064, 3343.4971428614776, 3343.1514508709024, 3342.817898052061, 3342.495613207304, 3342.1838125362333, 3341.8817892939555, 3341.5889048429426, 3341.304580887992, 3341.028292718754, 3340.7595633126293, 3340.4979581746916, 3340.2430808107747, 3339.994568746063, 3339.752090015217, 3339.5153400608933, 3339.284038987487, 3339.057929124163, 3338.8367728583626, 3338.620350706068, 3338.4084595900677, 3338.2009113013346, 3337.997531121876, 3337.798156590328, 3337.6026363941774, 3337.410829374057, 3337.222603627999, 3337.037835704554, 3336.8564098750962, 3336.67821747713, 3336.503156320834, 3336.331130152375, 3336.162048168128, 3335.9958245745634, 3335.8323781892227, 3335.6716320785226, 3335.513513228932, 3335.357952247989, 3335.204883092407, 3335.0542428205167, 3334.9059713667666, 3334.7600113360527, 3334.6163078161153, 3334.474808206207, 3334.3354620604164, 3334.1982209444736, 3334.0630383045777, 3333.929869347201, 3333.7986709289294, 3333.669401455253, 3333.54202078767, 3333.4164901581476, 3333.2927720904972, 3333.170830327838, 3333.050629765724, 3332.932136390389, 3332.8153172216953, 3332.700140260299, 3332.5865744386656, 3332.474589575789, 3332.3641563349834, 3332.2552461847235, 3332.147831362175, 3332.0418848392646, 3331.937380290952, 3331.8342920655864, 3331.7325951572902, 3331.632265179938, 3331.5332783428685, 3331.4356114280918, 3331.339241768751, 3331.2441472289443, 3331.1503061847166, 3331.0576975060535, 3330.966300539928, 3330.87609509424, 3330.787061422577, 3330.6991802098814, 3330.6124325586543, 3330.526799976069, 3330.442264361475, 3330.3588079947067, 3330.2764135247894, 3330.195063959247, 3330.114742653804, 3330.03543330265, 3329.957119929003, 3329.8797868761276, 3329.803418798738, 3329.728000654683, 3329.653517697008, 3329.5799554663145, 3329.5072997834, 3329.4355367421467, 3329.364652702751, 3329.2946342850482, 3329.225468362275, 3329.157142054843, 3329.0896427244293, 3329.022957968262, 3328.9570756135945, 3328.8919837122885, 3328.8276705356616, 3328.7641245694504, 3328.7013345089103, 3328.639289254107, 3328.5779779053323, 3328.5173897586183, 3328.457514301448, 3328.3983412085604, 3328.339860337833, 3328.28206172634, 3328.2249355865056, 3328.1684723023604, 3328.112662425852, 3328.057496673329, 3328.0029659221127, 3327.9490612070344, 3327.8957737172773, 3327.8430947931174, 3327.791015922822, 3327.7395287396225, 3327.68862501878, 3327.638296674643, 3327.588535757919, 3327.5393344528784, 3327.4906850746906, 3327.442580066819, 3327.3950119984975, 3327.3479735621854, 3327.301457571206, 3327.2554569573163, 3327.2099647684677, 3327.1649741664687, 3327.1204784248225, 3327.0764709265577, 3327.032945162106, 3326.9898947272754, 3326.947313321197, 3326.905194744379, 3326.8635328968044, 3326.822321775994, 3326.7815554752156, 3326.74122818165, 3326.701334174667, 3326.6618678240648, 3326.622823588412, 3326.5841960134076, 3326.5459797302387, 3326.508169454018, 3326.470759982249, 3326.4337461933023, 3326.3971230449442, 3326.3608855728876, 3326.32502888936, 3326.2895481817495, 3326.2544387111984, 3326.219695811345, 3326.185314886911, 3326.1512914125583, 3326.117620931511, 3326.084299054438, 3326.0513214581792, 3326.018683884601, 3325.986382139469, 3325.9544120912487, 3325.922769670095, 3325.8914508666808, 3325.860451731198, 3325.829768372295, 3325.7993969560607, 3325.7693337050086, 3325.7395748971367, 3325.7101168649106, 3325.680955994393, 3325.652088724258, 3325.623511544931, 3325.595220997665, 3325.5672136737167, 3325.539486213454, 3325.5120353055268, 3325.4848576860727, 3325.4579501378867, 3325.431309489632, 3325.404932615105, 3325.378816432421, 3325.352957903307, 3325.327354032356, 3325.302001866336, 3325.276898493456, 3325.2520410426782, 3325.227426683079, 3325.203052623152, 3325.178916110153, 3325.1550144294943, 3325.131344904081, 3325.107904893709, 3325.08469179449, 3325.0617030382195, 3325.03893609181, 3325.016388456703, 3324.9940576683725, 3324.971941295692, 3324.9500369404327, 3324.9283422367616, 3324.9068548506543, 3324.8855724794703, 3324.8644928513677, 3324.8436137248646, 3324.8229328883353, 3324.8024481595457, 3324.782157385186, 3324.7620584403985, 3324.742149228348, 3324.7224276797724, 3324.702891752556, 3324.683539431287, 3324.664368726871, 3324.6453776760713, 3324.626564341158, 3324.607926809489, 3324.5894631931124, 3324.571171628418, 3324.553050275709, 3324.535097318892, 3324.5173109650573, 3324.499689444181, 3324.482231008727, 3324.4649339333446, 3324.4477965145093, 3324.4308170701624, 3324.4139939394504, 3324.397325482364, 3324.380810079437, 3324.3644461314057, 3324.3482320589706, 3324.3321663024244]\n"
     ]
    }
   ],
   "source": [
    "theta,error_list = gradient_decent(X,y)\n",
    "print(theta)\n",
    "#print(error_list)"
   ]
  },
  {
   "cell_type": "markdown",
   "id": "cc758be5",
   "metadata": {},
   "source": [
    "### predictions"
   ]
  },
  {
   "cell_type": "code",
   "execution_count": 9,
   "id": "4f12a2d3",
   "metadata": {},
   "outputs": [],
   "source": [
    "y_ = []\n",
    "m = X.shape[0]\n",
    "for i in range(m):\n",
    "    pred = hypothesis(X[i],theta)\n",
    "    y_.append(pred)\n",
    "y_ = np.array(y_)\n",
    "\n",
    "def r2_score(y,y_):\n",
    "    num = np.sum((y-y_)**2)\n",
    "    denom = np.sum((y-y.mean())**2)\n",
    "    score = 1-(num/denom)\n",
    "    return score*100"
   ]
  },
  {
   "cell_type": "code",
   "execution_count": 10,
   "id": "77764261",
   "metadata": {},
   "outputs": [
    {
     "data": {
      "text/plain": [
       "53.36214994126951"
      ]
     },
     "execution_count": 10,
     "metadata": {},
     "output_type": "execute_result"
    }
   ],
   "source": [
    "r2_score(y,y_)"
   ]
  },
  {
   "cell_type": "code",
   "execution_count": 11,
   "id": "8dc1a5e8",
   "metadata": {},
   "outputs": [
    {
     "name": "stdout",
     "output_type": "stream",
     "text": [
      "15.649691776100418\n"
     ]
    }
   ],
   "source": [
    "a = [1,1,1,1,1,1,1,1,1]\n",
    "predict = hypothesis(a,theta)\n",
    "print(predict)"
   ]
  },
  {
   "cell_type": "markdown",
   "id": "9006627b",
   "metadata": {},
   "source": [
    "# till now we have learned from scratch\n",
    "# Now let us build models using sk learn so that we can deploy these on web\n",
    "# First model "
   ]
  },
  {
   "cell_type": "markdown",
   "id": "8a4d8b8a",
   "metadata": {},
   "source": [
    "## inputs to be given\n",
    "- Average Temperature\n",
    "- Maximum Temperature\n",
    "- Min Temp\n",
    "- Atmospheric pressure at sea level\n",
    "- Average relative humidity\n",
    "- Avg visibility\n",
    "- Avg wind speed\n",
    "- Maximum sustained wind speed"
   ]
  },
  {
   "cell_type": "code",
   "execution_count": 11,
   "id": "387b5a06",
   "metadata": {},
   "outputs": [],
   "source": [
    "data = pd.read_csv('./air_pollution/Data.csv')\n",
    "data.dropna(inplace = True)\n",
    "data = data.values\n",
    "X = data[:,0:8]\n",
    "y = data[:,-1]"
   ]
  },
  {
   "cell_type": "code",
   "execution_count": 13,
   "id": "43db146e",
   "metadata": {},
   "outputs": [
    {
     "name": "stdout",
     "output_type": "stream",
     "text": [
      "0.5201420703969563\n",
      "0.6437872575638027\n"
     ]
    }
   ],
   "source": [
    "#implementing same thing using sk learn , to save this file and do predictions and deploy to web\n",
    "from sklearn.model_selection import train_test_split\n",
    "X_train, X_val, y_train, y_val = train_test_split(X, y, test_size = 0.10, random_state = 5)\n",
    "\n",
    "from sklearn.linear_model import LinearRegression\n",
    "\n",
    "lr = LinearRegression()\n",
    "lr.fit(X_train, y_train)\n",
    "print(lr.score(X_train, y_train))\n",
    "print(lr.score(X_val, y_val))"
   ]
  },
  {
   "cell_type": "code",
   "execution_count": null,
   "id": "dbc56988",
   "metadata": {},
   "outputs": [],
   "source": []
  },
  {
   "cell_type": "code",
   "execution_count": 14,
   "id": "b0d179d0",
   "metadata": {},
   "outputs": [
    {
     "data": {
      "text/plain": [
       "-6.517698521377952"
      ]
     },
     "execution_count": 14,
     "metadata": {},
     "output_type": "execute_result"
    }
   ],
   "source": [
    "#create a pkl file to do predictions directly\n",
    "# this bascically saves the model ready to do predictions\n",
    "\n",
    "import joblib\n",
    "joblib.dump(lr,\"model1.pkl\")\n",
    "\n",
    "model1 = joblib.load('model1.pkl')\n",
    "model1.predict([[27,36,24,29.64,84,3,22,9]])[0]   # jharsuguda data\n"
   ]
  },
  {
   "cell_type": "code",
   "execution_count": null,
   "id": "8aac7e50",
   "metadata": {},
   "outputs": [],
   "source": []
  },
  {
   "cell_type": "code",
   "execution_count": 120,
   "id": "7c94962d",
   "metadata": {},
   "outputs": [
    {
     "data": {
      "text/plain": [
       "-6.517698521377952"
      ]
     },
     "execution_count": 120,
     "metadata": {},
     "output_type": "execute_result"
    }
   ],
   "source": [
    "c = model1.predict([[27,36,24,29.64,84,3,22,9]]) \n",
    "c[0]"
   ]
  },
  {
   "cell_type": "markdown",
   "id": "642593fd",
   "metadata": {},
   "source": [
    "# Let us do this for predicting another another input\n",
    "# second model"
   ]
  },
  {
   "cell_type": "markdown",
   "id": "3728ca3c",
   "metadata": {},
   "source": [
    "## inputs to be given\n",
    "- PM2.5\n",
    "- PM10\n",
    "- NO2\n",
    "- NH3\n",
    "- SO2\n",
    "- CO\n",
    "- OZONE\n",
    "- output = AQI"
   ]
  },
  {
   "cell_type": "code",
   "execution_count": 15,
   "id": "6d67c7a0",
   "metadata": {},
   "outputs": [
    {
     "data": {
      "text/html": [
       "<div>\n",
       "<style scoped>\n",
       "    .dataframe tbody tr th:only-of-type {\n",
       "        vertical-align: middle;\n",
       "    }\n",
       "\n",
       "    .dataframe tbody tr th {\n",
       "        vertical-align: top;\n",
       "    }\n",
       "\n",
       "    .dataframe thead th {\n",
       "        text-align: right;\n",
       "    }\n",
       "</style>\n",
       "<table border=\"1\" class=\"dataframe\">\n",
       "  <thead>\n",
       "    <tr style=\"text-align: right;\">\n",
       "      <th></th>\n",
       "      <th>state</th>\n",
       "      <th>city</th>\n",
       "      <th>station</th>\n",
       "      <th>date</th>\n",
       "      <th>time</th>\n",
       "      <th>PM2.5</th>\n",
       "      <th>PM10</th>\n",
       "      <th>NO2</th>\n",
       "      <th>NH3</th>\n",
       "      <th>SO2</th>\n",
       "      <th>CO</th>\n",
       "      <th>OZONE</th>\n",
       "      <th>AQI</th>\n",
       "      <th>Predominant_Parameter</th>\n",
       "    </tr>\n",
       "  </thead>\n",
       "  <tbody>\n",
       "    <tr>\n",
       "      <th>0</th>\n",
       "      <td>Andhra_Pradesh</td>\n",
       "      <td>Amaravati</td>\n",
       "      <td>Secretariat, Amaravati - APPCB</td>\n",
       "      <td>03-01-2020</td>\n",
       "      <td>10:00:00</td>\n",
       "      <td>68.0</td>\n",
       "      <td>64.0</td>\n",
       "      <td>17.0</td>\n",
       "      <td>4.0</td>\n",
       "      <td>28.0</td>\n",
       "      <td>31.0</td>\n",
       "      <td>40.0</td>\n",
       "      <td>68.0</td>\n",
       "      <td>PM2.5</td>\n",
       "    </tr>\n",
       "    <tr>\n",
       "      <th>1</th>\n",
       "      <td>Andhra_Pradesh</td>\n",
       "      <td>Rajamahendravaram</td>\n",
       "      <td>Anand Kala Kshetram, Rajamahendravaram - APPCB</td>\n",
       "      <td>03-01-2020</td>\n",
       "      <td>10:00:00</td>\n",
       "      <td>67.0</td>\n",
       "      <td>70.0</td>\n",
       "      <td>23.0</td>\n",
       "      <td>2.0</td>\n",
       "      <td>13.0</td>\n",
       "      <td>49.0</td>\n",
       "      <td>77.0</td>\n",
       "      <td>77.0</td>\n",
       "      <td>OZONE</td>\n",
       "    </tr>\n",
       "    <tr>\n",
       "      <th>2</th>\n",
       "      <td>Andhra_Pradesh</td>\n",
       "      <td>Tirupati</td>\n",
       "      <td>Tirumala, Tirupati - APPCB</td>\n",
       "      <td>03-01-2020</td>\n",
       "      <td>10:00:00</td>\n",
       "      <td>32.0</td>\n",
       "      <td>NaN</td>\n",
       "      <td>26.0</td>\n",
       "      <td>5.0</td>\n",
       "      <td>6.0</td>\n",
       "      <td>19.0</td>\n",
       "      <td>16.0</td>\n",
       "      <td>32.0</td>\n",
       "      <td>PM2.5</td>\n",
       "    </tr>\n",
       "    <tr>\n",
       "      <th>3</th>\n",
       "      <td>Andhra_Pradesh</td>\n",
       "      <td>Visakhapatnam</td>\n",
       "      <td>GVM Corporation, Visakhapatnam - APPCB</td>\n",
       "      <td>03-01-2020</td>\n",
       "      <td>10:00:00</td>\n",
       "      <td>93.0</td>\n",
       "      <td>93.0</td>\n",
       "      <td>31.0</td>\n",
       "      <td>3.0</td>\n",
       "      <td>9.0</td>\n",
       "      <td>57.0</td>\n",
       "      <td>61.0</td>\n",
       "      <td>93.0</td>\n",
       "      <td>PM10</td>\n",
       "    </tr>\n",
       "    <tr>\n",
       "      <th>4</th>\n",
       "      <td>Andhra_Pradesh</td>\n",
       "      <td>Amaravati</td>\n",
       "      <td>Secretariat, Amaravati - APPCB</td>\n",
       "      <td>05-01-2020</td>\n",
       "      <td>06:00:00</td>\n",
       "      <td>60.0</td>\n",
       "      <td>55.0</td>\n",
       "      <td>20.0</td>\n",
       "      <td>5.0</td>\n",
       "      <td>18.0</td>\n",
       "      <td>29.0</td>\n",
       "      <td>53.0</td>\n",
       "      <td>60.0</td>\n",
       "      <td>PM2.5</td>\n",
       "    </tr>\n",
       "  </tbody>\n",
       "</table>\n",
       "</div>"
      ],
      "text/plain": [
       "            state               city  \\\n",
       "0  Andhra_Pradesh          Amaravati   \n",
       "1  Andhra_Pradesh  Rajamahendravaram   \n",
       "2  Andhra_Pradesh           Tirupati   \n",
       "3  Andhra_Pradesh      Visakhapatnam   \n",
       "4  Andhra_Pradesh          Amaravati   \n",
       "\n",
       "                                          station        date      time  \\\n",
       "0                  Secretariat, Amaravati - APPCB  03-01-2020  10:00:00   \n",
       "1  Anand Kala Kshetram, Rajamahendravaram - APPCB  03-01-2020  10:00:00   \n",
       "2                      Tirumala, Tirupati - APPCB  03-01-2020  10:00:00   \n",
       "3          GVM Corporation, Visakhapatnam - APPCB  03-01-2020  10:00:00   \n",
       "4                  Secretariat, Amaravati - APPCB  05-01-2020  06:00:00   \n",
       "\n",
       "   PM2.5  PM10   NO2  NH3   SO2    CO  OZONE   AQI Predominant_Parameter  \n",
       "0   68.0  64.0  17.0  4.0  28.0  31.0   40.0  68.0                 PM2.5  \n",
       "1   67.0  70.0  23.0  2.0  13.0  49.0   77.0  77.0                 OZONE  \n",
       "2   32.0   NaN  26.0  5.0   6.0  19.0   16.0  32.0                 PM2.5  \n",
       "3   93.0  93.0  31.0  3.0   9.0  57.0   61.0  93.0                  PM10  \n",
       "4   60.0  55.0  20.0  5.0  18.0  29.0   53.0  60.0                 PM2.5  "
      ]
     },
     "execution_count": 15,
     "metadata": {},
     "output_type": "execute_result"
    }
   ],
   "source": [
    "data = pd.read_csv('./air_pollution/RAW_DATASET_state_weather_aqi_data.csv')\n",
    "data.head()"
   ]
  },
  {
   "cell_type": "markdown",
   "id": "9b7d945d",
   "metadata": {},
   "source": [
    "- we dont require state , city , station , date and time and predominant parameter as well\n",
    "- features extraction , we have to take only reamining"
   ]
  },
  {
   "cell_type": "code",
   "execution_count": 16,
   "id": "9a1c09f9",
   "metadata": {},
   "outputs": [
    {
     "data": {
      "text/html": [
       "<div>\n",
       "<style scoped>\n",
       "    .dataframe tbody tr th:only-of-type {\n",
       "        vertical-align: middle;\n",
       "    }\n",
       "\n",
       "    .dataframe tbody tr th {\n",
       "        vertical-align: top;\n",
       "    }\n",
       "\n",
       "    .dataframe thead th {\n",
       "        text-align: right;\n",
       "    }\n",
       "</style>\n",
       "<table border=\"1\" class=\"dataframe\">\n",
       "  <thead>\n",
       "    <tr style=\"text-align: right;\">\n",
       "      <th></th>\n",
       "      <th>state</th>\n",
       "      <th>city</th>\n",
       "      <th>station</th>\n",
       "      <th>date</th>\n",
       "      <th>time</th>\n",
       "      <th>PM2.5</th>\n",
       "      <th>PM10</th>\n",
       "      <th>NO2</th>\n",
       "      <th>NH3</th>\n",
       "      <th>SO2</th>\n",
       "      <th>CO</th>\n",
       "      <th>OZONE</th>\n",
       "      <th>AQI</th>\n",
       "      <th>Predominant_Parameter</th>\n",
       "    </tr>\n",
       "  </thead>\n",
       "  <tbody>\n",
       "    <tr>\n",
       "      <th>0</th>\n",
       "      <td>Andhra_Pradesh</td>\n",
       "      <td>Amaravati</td>\n",
       "      <td>Secretariat, Amaravati - APPCB</td>\n",
       "      <td>03-01-2020</td>\n",
       "      <td>10:00:00</td>\n",
       "      <td>68.0</td>\n",
       "      <td>64.0</td>\n",
       "      <td>17.0</td>\n",
       "      <td>4.0</td>\n",
       "      <td>28.0</td>\n",
       "      <td>31.0</td>\n",
       "      <td>40.0</td>\n",
       "      <td>68.0</td>\n",
       "      <td>PM2.5</td>\n",
       "    </tr>\n",
       "    <tr>\n",
       "      <th>1</th>\n",
       "      <td>Andhra_Pradesh</td>\n",
       "      <td>Rajamahendravaram</td>\n",
       "      <td>Anand Kala Kshetram, Rajamahendravaram - APPCB</td>\n",
       "      <td>03-01-2020</td>\n",
       "      <td>10:00:00</td>\n",
       "      <td>67.0</td>\n",
       "      <td>70.0</td>\n",
       "      <td>23.0</td>\n",
       "      <td>2.0</td>\n",
       "      <td>13.0</td>\n",
       "      <td>49.0</td>\n",
       "      <td>77.0</td>\n",
       "      <td>77.0</td>\n",
       "      <td>OZONE</td>\n",
       "    </tr>\n",
       "    <tr>\n",
       "      <th>3</th>\n",
       "      <td>Andhra_Pradesh</td>\n",
       "      <td>Visakhapatnam</td>\n",
       "      <td>GVM Corporation, Visakhapatnam - APPCB</td>\n",
       "      <td>03-01-2020</td>\n",
       "      <td>10:00:00</td>\n",
       "      <td>93.0</td>\n",
       "      <td>93.0</td>\n",
       "      <td>31.0</td>\n",
       "      <td>3.0</td>\n",
       "      <td>9.0</td>\n",
       "      <td>57.0</td>\n",
       "      <td>61.0</td>\n",
       "      <td>93.0</td>\n",
       "      <td>PM10</td>\n",
       "    </tr>\n",
       "    <tr>\n",
       "      <th>4</th>\n",
       "      <td>Andhra_Pradesh</td>\n",
       "      <td>Amaravati</td>\n",
       "      <td>Secretariat, Amaravati - APPCB</td>\n",
       "      <td>05-01-2020</td>\n",
       "      <td>06:00:00</td>\n",
       "      <td>60.0</td>\n",
       "      <td>55.0</td>\n",
       "      <td>20.0</td>\n",
       "      <td>5.0</td>\n",
       "      <td>18.0</td>\n",
       "      <td>29.0</td>\n",
       "      <td>53.0</td>\n",
       "      <td>60.0</td>\n",
       "      <td>PM2.5</td>\n",
       "    </tr>\n",
       "    <tr>\n",
       "      <th>5</th>\n",
       "      <td>Andhra_Pradesh</td>\n",
       "      <td>Rajamahendravaram</td>\n",
       "      <td>Anand Kala Kshetram, Rajamahendravaram - APPCB</td>\n",
       "      <td>05-01-2020</td>\n",
       "      <td>06:00:00</td>\n",
       "      <td>48.0</td>\n",
       "      <td>52.0</td>\n",
       "      <td>25.0</td>\n",
       "      <td>3.0</td>\n",
       "      <td>12.0</td>\n",
       "      <td>43.0</td>\n",
       "      <td>67.0</td>\n",
       "      <td>67.0</td>\n",
       "      <td>OZONE</td>\n",
       "    </tr>\n",
       "  </tbody>\n",
       "</table>\n",
       "</div>"
      ],
      "text/plain": [
       "            state               city  \\\n",
       "0  Andhra_Pradesh          Amaravati   \n",
       "1  Andhra_Pradesh  Rajamahendravaram   \n",
       "3  Andhra_Pradesh      Visakhapatnam   \n",
       "4  Andhra_Pradesh          Amaravati   \n",
       "5  Andhra_Pradesh  Rajamahendravaram   \n",
       "\n",
       "                                          station        date      time  \\\n",
       "0                  Secretariat, Amaravati - APPCB  03-01-2020  10:00:00   \n",
       "1  Anand Kala Kshetram, Rajamahendravaram - APPCB  03-01-2020  10:00:00   \n",
       "3          GVM Corporation, Visakhapatnam - APPCB  03-01-2020  10:00:00   \n",
       "4                  Secretariat, Amaravati - APPCB  05-01-2020  06:00:00   \n",
       "5  Anand Kala Kshetram, Rajamahendravaram - APPCB  05-01-2020  06:00:00   \n",
       "\n",
       "   PM2.5  PM10   NO2  NH3   SO2    CO  OZONE   AQI Predominant_Parameter  \n",
       "0   68.0  64.0  17.0  4.0  28.0  31.0   40.0  68.0                 PM2.5  \n",
       "1   67.0  70.0  23.0  2.0  13.0  49.0   77.0  77.0                 OZONE  \n",
       "3   93.0  93.0  31.0  3.0   9.0  57.0   61.0  93.0                  PM10  \n",
       "4   60.0  55.0  20.0  5.0  18.0  29.0   53.0  60.0                 PM2.5  \n",
       "5   48.0  52.0  25.0  3.0  12.0  43.0   67.0  67.0                 OZONE  "
      ]
     },
     "execution_count": 16,
     "metadata": {},
     "output_type": "execute_result"
    }
   ],
   "source": [
    "data.dropna(inplace = True)          # drop nan , as nan are not useful in ml\n",
    "data.head()"
   ]
  },
  {
   "cell_type": "code",
   "execution_count": 17,
   "id": "9496e866",
   "metadata": {},
   "outputs": [
    {
     "name": "stdout",
     "output_type": "stream",
     "text": [
      "[['Andhra_Pradesh' 'Amaravati' 'Secretariat, Amaravati - APPCB'\n",
      "  '03-01-2020' '10:00:00' 68.0 64.0 17.0 4.0 28.0 31.0 40.0 68.0]]\n"
     ]
    }
   ],
   "source": [
    "data = data.values       # removing the last coloumn\n",
    "data = data[:,0:13]\n",
    "print(data[0:1,:])"
   ]
  },
  {
   "cell_type": "code",
   "execution_count": 18,
   "id": "bd51099b",
   "metadata": {},
   "outputs": [
    {
     "name": "stdout",
     "output_type": "stream",
     "text": [
      "[[68.0 64.0 17.0 4.0 28.0 31.0 40.0]\n",
      " [67.0 70.0 23.0 2.0 13.0 49.0 77.0]\n",
      " [93.0 93.0 31.0 3.0 9.0 57.0 61.0]\n",
      " [60.0 55.0 20.0 5.0 18.0 29.0 53.0]]\n",
      "(967, 7)\n",
      "(967,)\n"
     ]
    }
   ],
   "source": [
    "X = data[:,5:12]     # taking x from oloumn 5 to 12  \n",
    "y = data[:,-1]       # taking y as last coloumn = output\n",
    "print(X[0:4,:])\n",
    "print(X.shape)\n",
    "print(y.shape)"
   ]
  },
  {
   "cell_type": "code",
   "execution_count": 20,
   "id": "57abe43d",
   "metadata": {},
   "outputs": [
    {
     "name": "stdout",
     "output_type": "stream",
     "text": [
      "0.9816281438824661\n",
      "0.97859130292591\n"
     ]
    }
   ],
   "source": [
    "from sklearn.model_selection import train_test_split\n",
    "X_train, X_val, y_train, y_val = train_test_split(X, y, test_size = 0.10, random_state = 5)\n",
    "\n",
    "from sklearn.linear_model import LinearRegression\n",
    "\n",
    "lr = LinearRegression()\n",
    "lr.fit(X_train, y_train)\n",
    "print(lr.score(X_train, y_train))\n",
    "print(lr.score(X_val, y_val))"
   ]
  },
  {
   "cell_type": "code",
   "execution_count": 22,
   "id": "7b0f1ed7",
   "metadata": {},
   "outputs": [
    {
     "data": {
      "text/plain": [
       "183.9119844635948"
      ]
     },
     "execution_count": 22,
     "metadata": {},
     "output_type": "execute_result"
    }
   ],
   "source": [
    "hist = lr.predict(X_val)\n",
    "\n",
    "from sklearn.metrics import mean_squared_error\n",
    "mean_squared_error(y_val,hist)"
   ]
  },
  {
   "cell_type": "markdown",
   "id": "268cfcff",
   "metadata": {},
   "source": [
    "### very good score !"
   ]
  },
  {
   "cell_type": "code",
   "execution_count": 104,
   "id": "48095460",
   "metadata": {},
   "outputs": [
    {
     "data": {
      "text/plain": [
       "array([44.57815757])"
      ]
     },
     "execution_count": 104,
     "metadata": {},
     "output_type": "execute_result"
    }
   ],
   "source": [
    "#create a pkl file to do predictions directly\n",
    "# this bascically saves the model ready to do predictions\n",
    "\n",
    "import joblib\n",
    "joblib.dump(lr,\"model2.pkl\")\n",
    "\n",
    "model2 = joblib.load('model2.pkl')\n",
    "model2.predict([[27.87,61,10.5,17.8,5.7,20.0,17.8]])   # jharsuguda data"
   ]
  },
  {
   "cell_type": "code",
   "execution_count": 105,
   "id": "cc8052a6",
   "metadata": {},
   "outputs": [
    {
     "data": {
      "text/plain": [
       "44.57815756915067"
      ]
     },
     "execution_count": 105,
     "metadata": {},
     "output_type": "execute_result"
    }
   ],
   "source": [
    "#answer is displayed in array form\n",
    "p = model2.predict([[27.87,61,10.5,17.8,5.7,20.0,17.8]])\n",
    "p[0]"
   ]
  },
  {
   "cell_type": "code",
   "execution_count": null,
   "id": "53ffbb13",
   "metadata": {},
   "outputs": [],
   "source": []
  },
  {
   "cell_type": "markdown",
   "id": "34b1cf02",
   "metadata": {},
   "source": [
    "# Both models are now ready to be deployed on web"
   ]
  },
  {
   "cell_type": "markdown",
   "id": "337f04de",
   "metadata": {},
   "source": [
    "### references\n",
    "- https://cambridgemask.com/blogs/news/6-things-you-need-to-know-about-pm2-5"
   ]
  }
 ],
 "metadata": {
  "kernelspec": {
   "display_name": "Python 3",
   "language": "python",
   "name": "python3"
  },
  "language_info": {
   "codemirror_mode": {
    "name": "ipython",
    "version": 3
   },
   "file_extension": ".py",
   "mimetype": "text/x-python",
   "name": "python",
   "nbconvert_exporter": "python",
   "pygments_lexer": "ipython3",
   "version": "3.9.4"
  }
 },
 "nbformat": 4,
 "nbformat_minor": 5
}
